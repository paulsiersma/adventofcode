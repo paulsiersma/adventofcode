{
 "metadata": {
  "language_info": {
   "codemirror_mode": {
    "name": "ipython",
    "version": 3
   },
   "file_extension": ".py",
   "mimetype": "text/x-python",
   "name": "python",
   "nbconvert_exporter": "python",
   "pygments_lexer": "ipython3",
   "version": "3.7.4-final"
  },
  "orig_nbformat": 2,
  "kernelspec": {
   "name": "python3",
   "display_name": "Python 3"
  }
 },
 "nbformat": 4,
 "nbformat_minor": 2,
 "cells": [
  {
   "cell_type": "code",
   "execution_count": 53,
   "metadata": {
    "tags": []
   },
   "outputs": [
    {
     "output_type": "stream",
     "name": "stdout",
     "text": [
      "0 {'instruction': 'acc', 'argument': 9, 'count': 1}\n1 {'instruction': 'acc', 'argument': -2, 'count': 1}\n2 {'instruction': 'acc', 'argument': -12, 'count': 1}\n3 {'instruction': 'acc', 'argument': 33, 'count': 1}\n304 {'instruction': 'jmp', 'argument': 301, 'count': 1}\n305 {'instruction': 'acc', 'argument': -4, 'count': 1}\n306 {'instruction': 'jmp', 'argument': 1, 'count': 1}\n307 {'instruction': 'acc', 'argument': 9, 'count': 1}\n308 {'instruction': 'acc', 'argument': -12, 'count': 1}\n153 {'instruction': 'jmp', 'argument': -155, 'count': 1}\n154 {'instruction': 'acc', 'argument': 43, 'count': 1}\n155 {'instruction': 'nop', 'argument': 182, 'count': 1}\n26 {'instruction': 'jmp', 'argument': -129, 'count': 1}\n27 {'instruction': 'acc', 'argument': -19, 'count': 1}\n28 {'instruction': 'acc', 'argument': 27, 'count': 1}\n29 {'instruction': 'acc', 'argument': 12, 'count': 1}\n512 {'instruction': 'jmp', 'argument': 483, 'count': 1}\n513 {'instruction': 'acc', 'argument': 34, 'count': 1}\n514 {'instruction': 'nop', 'argument': 54, 'count': 1}\n38 {'instruction': 'jmp', 'argument': -476, 'count': 1}\n39 {'instruction': 'acc', 'argument': 43, 'count': 1}\n40 {'instruction': 'acc', 'argument': -12, 'count': 1}\n198 {'instruction': 'jmp', 'argument': 158, 'count': 1}\n199 {'instruction': 'acc', 'argument': 25, 'count': 1}\n200 {'instruction': 'acc', 'argument': -1, 'count': 1}\n201 {'instruction': 'acc', 'argument': 30, 'count': 1}\n202 {'instruction': 'acc', 'argument': 42, 'count': 1}\n15 {'instruction': 'jmp', 'argument': -187, 'count': 1}\n16 {'instruction': 'acc', 'argument': -13, 'count': 1}\n17 {'instruction': 'acc', 'argument': -17, 'count': 1}\n18 {'instruction': 'acc', 'argument': 31, 'count': 1}\n329 {'instruction': 'jmp', 'argument': 311, 'count': 1}\n330 {'instruction': 'acc', 'argument': 7, 'count': 1}\n70 {'instruction': 'jmp', 'argument': -260, 'count': 1}\n71 {'instruction': 'acc', 'argument': 38, 'count': 1}\n72 {'instruction': 'acc', 'argument': 30, 'count': 1}\n73 {'instruction': 'acc', 'argument': 21, 'count': 1}\n336 {'instruction': 'jmp', 'argument': 263, 'count': 1}\n574 {'instruction': 'jmp', 'argument': 238, 'count': 1}\n575 {'instruction': 'acc', 'argument': 10, 'count': 1}\n576 {'instruction': 'acc', 'argument': 26, 'count': 1}\n577 {'instruction': 'acc', 'argument': -9, 'count': 1}\n578 {'instruction': 'acc', 'argument': -16, 'count': 1}\n230 {'instruction': 'jmp', 'argument': -348, 'count': 1}\n604 {'instruction': 'jmp', 'argument': 374, 'count': 1}\n605 {'instruction': 'acc', 'argument': 45, 'count': 1}\n606 {'instruction': 'acc', 'argument': 1, 'count': 1}\n607 {'instruction': 'acc', 'argument': 28, 'count': 1}\n608 {'instruction': 'acc', 'argument': 9, 'count': 1}\n58 {'instruction': 'jmp', 'argument': -550, 'count': 1}\n49 {'instruction': 'jmp', 'argument': -9, 'count': 1}\n50 {'instruction': 'acc', 'argument': -16, 'count': 1}\n208 {'instruction': 'jmp', 'argument': 158, 'count': 1}\n373 {'instruction': 'jmp', 'argument': 165, 'count': 1}\n374 {'instruction': 'acc', 'argument': 33, 'count': 1}\n375 {'instruction': 'nop', 'argument': -120, 'count': 1}\n376 {'instruction': 'acc', 'argument': 0, 'count': 1}\n591 {'instruction': 'jmp', 'argument': 215, 'count': 1}\n592 {'instruction': 'acc', 'argument': 10, 'count': 1}\n61 {'instruction': 'jmp', 'argument': -531, 'count': 1}\n619 {'instruction': 'jmp', 'argument': 558, 'count': 1}\n620 {'instruction': 'acc', 'argument': -2, 'count': 1}\n621 {'instruction': 'nop', 'argument': -562, 'count': 1}\n431 {'instruction': 'jmp', 'argument': -190, 'count': 1}\n432 {'instruction': 'acc', 'argument': 43, 'count': 1}\n433 {'instruction': 'acc', 'argument': 43, 'count': 1}\n365 {'instruction': 'jmp', 'argument': -68, 'count': 1}\n366 {'instruction': 'acc', 'argument': -4, 'count': 1}\n517 {'instruction': 'jmp', 'argument': 151, 'count': 1}\n518 {'instruction': 'nop', 'argument': -354, 'count': 1}\n519 {'instruction': 'acc', 'argument': 1, 'count': 1}\n195 {'instruction': 'jmp', 'argument': -324, 'count': 1}\n183 {'instruction': 'jmp', 'argument': -12, 'count': 1}\n184 {'instruction': 'acc', 'argument': 42, 'count': 1}\n185 {'instruction': 'acc', 'argument': 24, 'count': 1}\n249 {'instruction': 'jmp', 'argument': 64, 'count': 1}\n250 {'instruction': 'nop', 'argument': -35, 'count': 1}\n82 {'instruction': 'jmp', 'argument': -168, 'count': 1}\n83 {'instruction': 'acc', 'argument': 28, 'count': 1}\n84 {'instruction': 'acc', 'argument': -6, 'count': 1}\n454 {'instruction': 'jmp', 'argument': 370, 'count': 1}\n455 {'instruction': 'nop', 'argument': -317, 'count': 1}\n456 {'instruction': 'acc', 'argument': -14, 'count': 1}\n457 {'instruction': 'nop', 'argument': -127, 'count': 1}\n458 {'instruction': 'acc', 'argument': 32, 'count': 1}\n86 {'instruction': 'jmp', 'argument': -372, 'count': 1}\n87 {'instruction': 'acc', 'argument': 50, 'count': 1}\n88 {'instruction': 'acc', 'argument': 42, 'count': 1}\n89 {'instruction': 'acc', 'argument': -9, 'count': 1}\n90 {'instruction': 'acc', 'argument': 30, 'count': 1}\n160 {'instruction': 'jmp', 'argument': 70, 'count': 1}\n238 {'instruction': 'jmp', 'argument': 78, 'count': 1}\n239 {'instruction': 'acc', 'argument': 16, 'count': 1}\n240 {'instruction': 'acc', 'argument': 33, 'count': 1}\n241 {'instruction': 'acc', 'argument': -2, 'count': 1}\n393 {'instruction': 'jmp', 'argument': 152, 'count': 1}\n394 {'instruction': 'acc', 'argument': 49, 'count': 1}\n395 {'instruction': 'acc', 'argument': -10, 'count': 1}\n127 {'instruction': 'jmp', 'argument': -268, 'count': 1}\n128 {'instruction': 'acc', 'argument': -10, 'count': 1}\n129 {'instruction': 'acc', 'argument': 16, 'count': 1}\n130 {'instruction': 'acc', 'argument': 16, 'count': 1}\n131 {'instruction': 'acc', 'argument': 43, 'count': 1}\n563 {'instruction': 'jmp', 'argument': 432, 'count': 1}\n564 {'instruction': 'acc', 'argument': -7, 'count': 1}\n565 {'instruction': 'acc', 'argument': 45, 'count': 1}\n547 {'instruction': 'jmp', 'argument': -18, 'count': 1}\n548 {'instruction': 'nop', 'argument': -186, 'count': 1}\n549 {'instruction': 'jmp', 'argument': 1, 'count': 1}\n550 {'instruction': 'acc', 'argument': 26, 'count': 1}\n397 {'instruction': 'jmp', 'argument': -153, 'count': 1}\n398 {'instruction': 'acc', 'argument': -14, 'count': 1}\n399 {'instruction': 'nop', 'argument': -100, 'count': 1}\n419 {'instruction': 'jmp', 'argument': 20, 'count': 1}\n420 {'instruction': 'nop', 'argument': 162, 'count': 1}\n421 {'instruction': 'nop', 'argument': -260, 'count': 1}\n567 {'instruction': 'jmp', 'argument': 146, 'count': 1}\n568 {'instruction': 'acc', 'argument': -8, 'count': 1}\n596 {'instruction': 'jmp', 'argument': 28, 'count': 1}\n597 {'instruction': 'acc', 'argument': 19, 'count': 1}\n598 {'instruction': 'acc', 'argument': 3, 'count': 1}\n599 {'instruction': 'nop', 'argument': -533, 'count': 1}\n600 {'instruction': 'acc', 'argument': -3, 'count': 1}\n438 {'instruction': 'jmp', 'argument': -162, 'count': 1}\n439 {'instruction': 'acc', 'argument': 33, 'count': 1}\n440 {'instruction': 'acc', 'argument': 2, 'count': 1}\n441 {'instruction': 'acc', 'argument': 34, 'count': 1}\n442 {'instruction': 'acc', 'argument': -9, 'count': 1}\n426 {'instruction': 'jmp', 'argument': -16, 'count': 1}\n427 {'instruction': 'acc', 'argument': 3, 'count': 1}\n428 {'instruction': 'acc', 'argument': 31, 'count': 1}\n429 {'instruction': 'nop', 'argument': -185, 'count': 1}\n221 {'instruction': 'jmp', 'argument': -208, 'count': 1}\n222 {'instruction': 'acc', 'argument': 36, 'count': 1}\n223 {'instruction': 'acc', 'argument': 14, 'count': 1}\n224 {'instruction': 'jmp', 'argument': 1, 'count': 1}\n555 {'instruction': 'jmp', 'argument': 331, 'count': 1}\n146 {'instruction': 'jmp', 'argument': -409, 'count': 1}\n147 {'instruction': 'acc', 'argument': 36, 'count': 1}\n148 {'instruction': 'acc', 'argument': 24, 'count': 1}\n149 {'instruction': 'acc', 'argument': -15, 'count': 1}\n150 {'instruction': 'acc', 'argument': -9, 'count': 1}\n264 {'instruction': 'jmp', 'argument': 114, 'count': 1}\n265 {'instruction': 'acc', 'argument': 35, 'count': 1}\n266 {'instruction': 'acc', 'argument': 46, 'count': 1}\n267 {'instruction': 'acc', 'argument': -1, 'count': 1}\n361 {'instruction': 'jmp', 'argument': 94, 'count': 1}\n362 {'instruction': 'acc', 'argument': -17, 'count': 1}\n363 {'instruction': 'acc', 'argument': 15, 'count': 1}\n311 {'instruction': 'jmp', 'argument': -52, 'count': 1}\n312 {'instruction': 'acc', 'argument': 0, 'count': 1}\n313 {'instruction': 'acc', 'argument': -2, 'count': 1}\n314 {'instruction': 'acc', 'argument': 38, 'count': 1}\n381 {'instruction': 'jmp', 'argument': 67, 'count': 1}\n538 {'instruction': 'jmp', 'argument': 157, 'count': 1}\n539 {'instruction': 'acc', 'argument': 16, 'count': 1}\n540 {'instruction': 'acc', 'argument': 46, 'count': 1}\n6 {'instruction': 'jmp', 'argument': -534, 'count': 1}\n7 {'instruction': 'acc', 'argument': 27, 'count': 1}\n8 {'instruction': 'acc', 'argument': 35, 'count': 1}\n9 {'instruction': 'acc', 'argument': 43, 'count': 1}\n10 {'instruction': 'acc', 'argument': 31, 'count': 1}\n319 {'instruction': 'jmp', 'argument': 309, 'count': 1}\n320 {'instruction': 'acc', 'argument': -9, 'count': 1}\n321 {'instruction': 'acc', 'argument': 43, 'count': 1}\n322 {'instruction': 'acc', 'argument': -1, 'count': 1}\n323 {'instruction': 'acc', 'argument': 9, 'count': 1}\n33 {'instruction': 'jmp', 'argument': -290, 'count': 1}\n43 {'instruction': 'jmp', 'argument': 10, 'count': 1}\n44 {'instruction': 'jmp', 'argument': 1, 'count': 1}\n45 {'instruction': 'acc', 'argument': 5, 'count': 1}\n46 {'instruction': 'acc', 'argument': 15, 'count': 1}\n233 {'instruction': 'jmp', 'argument': 187, 'count': 1}\n234 {'instruction': 'acc', 'argument': 44, 'count': 1}\n235 {'instruction': 'nop', 'argument': -39, 'count': 1}\n463 {'instruction': 'jmp', 'argument': 228, 'count': 1}\n464 {'instruction': 'acc', 'argument': 23, 'count': 1}\n465 {'instruction': 'nop', 'argument': 117, 'count': 1}\n466 {'instruction': 'nop', 'argument': 92, 'count': 1}\n467 {'instruction': 'acc', 'argument': 42, 'count': 1}\n610 {'instruction': 'jmp', 'argument': 143, 'count': 1}\n504 {'instruction': 'jmp', 'argument': -106, 'count': 1}\n505 {'instruction': 'acc', 'argument': 26, 'count': 1}\n506 {'instruction': 'acc', 'argument': -4, 'count': 1}\n276 {'instruction': 'jmp', 'argument': -230, 'count': 1}\n277 {'instruction': 'nop', 'argument': -218, 'count': 1}\n99 {'instruction': 'jmp', 'argument': -178, 'count': 1}\n100 {'instruction': 'acc', 'argument': -4, 'count': 1}\n101 {'instruction': 'acc', 'argument': -15, 'count': 1}\n102 {'instruction': 'acc', 'argument': -1, 'count': 1}\n271 {'instruction': 'jmp', 'argument': 169, 'count': 1}\n404 {'instruction': 'jmp', 'argument': 133, 'count': 1}\n405 {'instruction': 'acc', 'argument': -19, 'count': 1}\n65 {'instruction': 'jmp', 'argument': -340, 'count': 1}\n66 {'instruction': 'nop', 'argument': 447, 'count': 1}\n137 {'instruction': 'jmp', 'argument': 71, 'count': 1}\n138 {'instruction': 'acc', 'argument': 33, 'count': 1}\n139 {'instruction': 'nop', 'argument': 166, 'count': 1}\n140 {'instruction': 'acc', 'argument': -5, 'count': 1}\n532 {'instruction': 'jmp', 'argument': 392, 'count': 1}\n533 {'instruction': 'acc', 'argument': -19, 'count': 1}\n446 {'instruction': 'jmp', 'argument': -87, 'count': 1}\n447 {'instruction': 'nop', 'argument': 135, 'count': 1}\n448 {'instruction': 'nop', 'argument': -389, 'count': 1}\n449 {'instruction': 'acc', 'argument': 33, 'count': 1}\n254 {'instruction': 'jmp', 'argument': -195, 'count': 1}\n255 {'instruction': 'acc', 'argument': 16, 'count': 1}\n256 {'instruction': 'acc', 'argument': 44, 'count': 1}\n26 {'instruction': 'jmp', 'argument': -230, 'count': 1}\n"
     ]
    },
    {
     "output_type": "execute_result",
     "data": {
      "text/plain": [
       "1723"
      ]
     },
     "metadata": {},
     "execution_count": 53
    }
   ],
   "source": [
    "file = open(\"../inputs/day8.csv\")\n",
    "input = file.read() # Read a text file\n",
    "input = input.split(\"\\n\")\n",
    "rows = []\n",
    "for row in input:\n",
    "    split_row = row.split(\" \")\n",
    "    row_object = {\"instruction\": split_row[0], \"argument\": int(split_row[1]), \"count\": 0}\n",
    "    rows.append(row_object)\n",
    "\n",
    "accumulator = 0\n",
    "index = 0\n",
    "while True:\n",
    "    row = rows[index]\n",
    "    instruction_count = row['count']\n",
    "    if instruction_count == 1:\n",
    "        break\n",
    "\n",
    "    instruction = row['instruction']\n",
    "    if instruction == 'nop':\n",
    "        index = index + 1\n",
    "    argument = row['argument']\n",
    "    if instruction == 'jmp':\n",
    "        index = index + argument\n",
    "    if instruction == 'acc':\n",
    "        accumulator = accumulator + argument\n",
    "        index = index + 1\n",
    "\n",
    "    row['count'] = instruction_count + 1\n",
    "    #print(index -1, row)\n",
    "\n",
    "accumulator\n",
    "    "
   ]
  },
  {
   "cell_type": "code",
   "execution_count": 15,
   "metadata": {},
   "outputs": [
    {
     "output_type": "execute_result",
     "data": {
      "text/plain": [
       "[{'instruction': 'acc', 'argument': 9, 'count': 0},\n",
       " {'instruction': 'acc', 'argument': -2, 'count': 0},\n",
       " {'instruction': 'acc', 'argument': -12, 'count': 0},\n",
       " {'instruction': 'acc', 'argument': 33, 'count': 0},\n",
       " {'instruction': 'jmp', 'argument': 301, 'count': 0}]"
      ]
     },
     "metadata": {},
     "execution_count": 15
    }
   ],
   "source": [
    "file = open(\"../inputs/day8.csv\")\n",
    "input = file.read() # Read a text file\n",
    "input = input.split(\"\\n\")\n",
    "rows = []\n",
    "for row in input:\n",
    "    split_row = row.split(\" \")\n",
    "    row_object = {\"instruction\": split_row[0], \"argument\": int(split_row[1]), \"count\": 0}\n",
    "    rows.append(row_object)\n",
    "rows[0:5]"
   ]
  },
  {
   "cell_type": "code",
   "execution_count": null,
   "metadata": {},
   "outputs": [],
   "source": [
    "# Find the nop instruction that will take the program to the last row if changed to jmp\n",
    "# Or\n",
    "# Find the jmp statement"
   ]
  }
 ]
}