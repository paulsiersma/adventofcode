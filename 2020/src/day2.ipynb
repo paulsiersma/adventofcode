{
 "metadata": {
  "language_info": {
   "codemirror_mode": {
    "name": "ipython",
    "version": 3
   },
   "file_extension": ".py",
   "mimetype": "text/x-python",
   "name": "python",
   "nbconvert_exporter": "python",
   "pygments_lexer": "ipython3",
   "version": "3.7.4-final"
  },
  "orig_nbformat": 2,
  "kernelspec": {
   "name": "python3",
   "display_name": "Python 3"
  }
 },
 "nbformat": 4,
 "nbformat_minor": 2,
 "cells": [
  {
   "cell_type": "code",
   "execution_count": 51,
   "metadata": {},
   "outputs": [
    {
     "output_type": "execute_result",
     "data": {
      "text/plain": [
       "        0  1                  2  3   4\n",
       "0     2-5  z             zzztvz  2   5\n",
       "1     2-8  d    pddzddkdvqgxndd  2   8\n",
       "2    4-14  r  rrrjrrrrrrbrrccrr  4  14\n",
       "3     2-7  r            zrgsnrr  2   7\n",
       "4    9-10  z         zzzxwzznpd  9  10\n",
       "..    ... ..                ... ..  ..\n",
       "995  2-15  p   lpjxcdzjmnghfppr  2  15\n",
       "996  9-15  s   ssssssssnsssssss  9  15\n",
       "997  1-11  t        tfvtqvlbtld  1  11\n",
       "998   4-5  k       kkkczkkkvkkk  4   5\n",
       "999   2-7  p       ptphppvppppp  2   7\n",
       "\n",
       "[1000 rows x 5 columns]"
      ],
      "text/html": "<div>\n<style scoped>\n    .dataframe tbody tr th:only-of-type {\n        vertical-align: middle;\n    }\n\n    .dataframe tbody tr th {\n        vertical-align: top;\n    }\n\n    .dataframe thead th {\n        text-align: right;\n    }\n</style>\n<table border=\"1\" class=\"dataframe\">\n  <thead>\n    <tr style=\"text-align: right;\">\n      <th></th>\n      <th>0</th>\n      <th>1</th>\n      <th>2</th>\n      <th>3</th>\n      <th>4</th>\n    </tr>\n  </thead>\n  <tbody>\n    <tr>\n      <td>0</td>\n      <td>2-5</td>\n      <td>z</td>\n      <td>zzztvz</td>\n      <td>2</td>\n      <td>5</td>\n    </tr>\n    <tr>\n      <td>1</td>\n      <td>2-8</td>\n      <td>d</td>\n      <td>pddzddkdvqgxndd</td>\n      <td>2</td>\n      <td>8</td>\n    </tr>\n    <tr>\n      <td>2</td>\n      <td>4-14</td>\n      <td>r</td>\n      <td>rrrjrrrrrrbrrccrr</td>\n      <td>4</td>\n      <td>14</td>\n    </tr>\n    <tr>\n      <td>3</td>\n      <td>2-7</td>\n      <td>r</td>\n      <td>zrgsnrr</td>\n      <td>2</td>\n      <td>7</td>\n    </tr>\n    <tr>\n      <td>4</td>\n      <td>9-10</td>\n      <td>z</td>\n      <td>zzzxwzznpd</td>\n      <td>9</td>\n      <td>10</td>\n    </tr>\n    <tr>\n      <td>...</td>\n      <td>...</td>\n      <td>...</td>\n      <td>...</td>\n      <td>...</td>\n      <td>...</td>\n    </tr>\n    <tr>\n      <td>995</td>\n      <td>2-15</td>\n      <td>p</td>\n      <td>lpjxcdzjmnghfppr</td>\n      <td>2</td>\n      <td>15</td>\n    </tr>\n    <tr>\n      <td>996</td>\n      <td>9-15</td>\n      <td>s</td>\n      <td>ssssssssnsssssss</td>\n      <td>9</td>\n      <td>15</td>\n    </tr>\n    <tr>\n      <td>997</td>\n      <td>1-11</td>\n      <td>t</td>\n      <td>tfvtqvlbtld</td>\n      <td>1</td>\n      <td>11</td>\n    </tr>\n    <tr>\n      <td>998</td>\n      <td>4-5</td>\n      <td>k</td>\n      <td>kkkczkkkvkkk</td>\n      <td>4</td>\n      <td>5</td>\n    </tr>\n    <tr>\n      <td>999</td>\n      <td>2-7</td>\n      <td>p</td>\n      <td>ptphppvppppp</td>\n      <td>2</td>\n      <td>7</td>\n    </tr>\n  </tbody>\n</table>\n<p>1000 rows × 5 columns</p>\n</div>"
     },
     "metadata": {},
     "execution_count": 51
    }
   ],
   "source": [
    "import pandas as pd # Import pandas\n",
    "input = pd.read_csv(\"../inputs/day2.csv\", header=None, delimiter=' ') # Read the input without header\n",
    "input[1] = input[1].apply(lambda x: x[0]) # Replace the df col with index 1 with the same but apply a transformation, taking only the first char\n",
    "\n",
    "def get_min(min_max):\n",
    "    sep_index = min_max.find('-')\n",
    "    return min_max[0:sep_index]\n",
    "\n",
    "def get_max(min_max):\n",
    "    sep_index = min_max.find('-')\n",
    "    return min_max[sep_index+ 1:]\n",
    "\n",
    "input[3] = input[0].apply(lambda x: get_min(x))\n",
    "input[4] = input[0].apply(lambda x: get_max(x))\n",
    "input\n"
   ]
  },
  {
   "cell_type": "code",
   "execution_count": 73,
   "metadata": {},
   "outputs": [
    {
     "output_type": "execute_result",
     "data": {
      "text/plain": [
       "460"
      ]
     },
     "metadata": {},
     "execution_count": 73
    }
   ],
   "source": [
    "def conforms(entry):\n",
    "    char_count = entry[2].count(entry[1])\n",
    "    is_good = int(entry[3]) <= char_count <= int(entry[4])\n",
    "    return is_good\n",
    "\n",
    "transformed_input = input.apply(lambda x: conforms(x), axis=1)\n",
    "count = transformed_input[transformed_input == True].count()\n",
    "count"
   ]
  },
  {
   "cell_type": "code",
   "execution_count": 89,
   "metadata": {
    "tags": []
   },
   "outputs": [
    {
     "output_type": "execute_result",
     "data": {
      "text/plain": [
       "251"
      ]
     },
     "metadata": {},
     "execution_count": 89
    }
   ],
   "source": [
    "def conforms(entry):\n",
    "    password = entry[2]\n",
    "    char = entry[1]\n",
    "    first_char_index = int(entry[3]) - 1\n",
    "    second_char_index = int(entry[4]) - 1\n",
    "    first_condition_met = password[first_char_index] == char\n",
    "    second_condition_met = password[second_char_index] == char\n",
    "    #print(f'Password: {password}. Looking for {char} at index {first_char_index} and NOT at index {second_char_index}')\n",
    "    #print(f'Result: char at first position: {password[first_char_index]}, char at second position: {password[second_char_index]}')\n",
    "    #print(f'Result: First condition: {first_condition_met}, Second condition: {second_condition_met}')\n",
    "    is_good = first_condition_met != second_condition_met\n",
    "    return is_good\n",
    "\n",
    "transformed_input = input.apply(lambda x: conforms(x), axis=1)\n",
    "count = transformed_input[transformed_input == True].count()\n",
    "count"
   ]
  },
  {
   "cell_type": "code",
   "execution_count": null,
   "metadata": {},
   "outputs": [],
   "source": []
  }
 ]
}