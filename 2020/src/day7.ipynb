{
 "metadata": {
  "language_info": {
   "codemirror_mode": {
    "name": "ipython",
    "version": 3
   },
   "file_extension": ".py",
   "mimetype": "text/x-python",
   "name": "python",
   "nbconvert_exporter": "python",
   "pygments_lexer": "ipython3",
   "version": "3.8.3-final"
  },
  "orig_nbformat": 2,
  "kernelspec": {
   "name": "python3",
   "display_name": "Python 3"
  }
 },
 "nbformat": 4,
 "nbformat_minor": 2,
 "cells": [
  {
   "cell_type": "code",
   "execution_count": 7,
   "metadata": {},
   "outputs": [
    {
     "output_type": "execute_result",
     "data": {
      "text/plain": [
       "                                                   0\n",
       "0     striped white bags contain 4 drab silver bags.\n",
       "1            drab silver bags contain no other bags.\n",
       "2           pale plum bags contain 1 dark black bag.\n",
       "3  muted gold bags contain 1 wavy red bag, 3 mirr...\n",
       "4  muted teal bags contain 2 pale beige bags, 5 c..."
      ],
      "text/html": "<div>\n<style scoped>\n    .dataframe tbody tr th:only-of-type {\n        vertical-align: middle;\n    }\n\n    .dataframe tbody tr th {\n        vertical-align: top;\n    }\n\n    .dataframe thead th {\n        text-align: right;\n    }\n</style>\n<table border=\"1\" class=\"dataframe\">\n  <thead>\n    <tr style=\"text-align: right;\">\n      <th></th>\n      <th>0</th>\n    </tr>\n  </thead>\n  <tbody>\n    <tr>\n      <th>0</th>\n      <td>striped white bags contain 4 drab silver bags.</td>\n    </tr>\n    <tr>\n      <th>1</th>\n      <td>drab silver bags contain no other bags.</td>\n    </tr>\n    <tr>\n      <th>2</th>\n      <td>pale plum bags contain 1 dark black bag.</td>\n    </tr>\n    <tr>\n      <th>3</th>\n      <td>muted gold bags contain 1 wavy red bag, 3 mirr...</td>\n    </tr>\n    <tr>\n      <th>4</th>\n      <td>muted teal bags contain 2 pale beige bags, 5 c...</td>\n    </tr>\n  </tbody>\n</table>\n</div>"
     },
     "metadata": {},
     "execution_count": 7
    }
   ],
   "source": [
    "import pandas as pd\n",
    "day6_2_file = open(\"../inputs/day7.txt\")\n",
    "input = day6_2_file.read() # Read a text file\n",
    "input = content.split(\"\\n\")\n",
    "input = pd.DataFrame(input)\n",
    "input.head()"
   ]
  },
  {
   "cell_type": "code",
   "execution_count": 59,
   "metadata": {},
   "outputs": [
    {
     "output_type": "stream",
     "name": "stdout",
     "text": [
      "hi\nhi\nhi\nhi\nhi\nhi\nhi\nhi\nhi\nhi\n"
     ]
    },
    {
     "output_type": "execute_result",
     "data": {
      "text/plain": [
       "                                                   0              1  \\\n",
       "0     striped white bags contain 4 drab silver bags.  striped-white   \n",
       "1            drab silver bags contain no other bags.    drab-silver   \n",
       "2           pale plum bags contain 1 dark black bag.      pale-plum   \n",
       "3  muted gold bags contain 1 wavy red bag, 3 mirr...     muted-gold   \n",
       "4  muted teal bags contain 2 pale beige bags, 5 c...     muted-teal   \n",
       "\n",
       "                                                   2     3  \n",
       "0                                 [[drab-silver, 4]]  None  \n",
       "1                                                 []  None  \n",
       "2                                  [[dark-black, 1]]  None  \n",
       "3  [[wavy-red, 1], [mirrored-violet, 3], [bright-...  None  \n",
       "4  [[pale-beige, 2], [clear-beige, 5], [dotted-go...  None  "
      ],
      "text/html": "<div>\n<style scoped>\n    .dataframe tbody tr th:only-of-type {\n        vertical-align: middle;\n    }\n\n    .dataframe tbody tr th {\n        vertical-align: top;\n    }\n\n    .dataframe thead th {\n        text-align: right;\n    }\n</style>\n<table border=\"1\" class=\"dataframe\">\n  <thead>\n    <tr style=\"text-align: right;\">\n      <th></th>\n      <th>0</th>\n      <th>1</th>\n      <th>2</th>\n      <th>3</th>\n    </tr>\n  </thead>\n  <tbody>\n    <tr>\n      <th>0</th>\n      <td>striped white bags contain 4 drab silver bags.</td>\n      <td>striped-white</td>\n      <td>[[drab-silver, 4]]</td>\n      <td>None</td>\n    </tr>\n    <tr>\n      <th>1</th>\n      <td>drab silver bags contain no other bags.</td>\n      <td>drab-silver</td>\n      <td>[]</td>\n      <td>None</td>\n    </tr>\n    <tr>\n      <th>2</th>\n      <td>pale plum bags contain 1 dark black bag.</td>\n      <td>pale-plum</td>\n      <td>[[dark-black, 1]]</td>\n      <td>None</td>\n    </tr>\n    <tr>\n      <th>3</th>\n      <td>muted gold bags contain 1 wavy red bag, 3 mirr...</td>\n      <td>muted-gold</td>\n      <td>[[wavy-red, 1], [mirrored-violet, 3], [bright-...</td>\n      <td>None</td>\n    </tr>\n    <tr>\n      <th>4</th>\n      <td>muted teal bags contain 2 pale beige bags, 5 c...</td>\n      <td>muted-teal</td>\n      <td>[[pale-beige, 2], [clear-beige, 5], [dotted-go...</td>\n      <td>None</td>\n    </tr>\n  </tbody>\n</table>\n</div>"
     },
     "metadata": {},
     "execution_count": 59
    }
   ],
   "source": [
    "import aoc_utils\n",
    "\n",
    "def get_type(x):\n",
    "    parts = x.split(' ', 2) \n",
    "    return f'{parts[0]}-{parts[1]}'\n",
    "\n",
    "def get_contents(x):\n",
    "    parts = x.split(' ')\n",
    "    if parts[4] == 'no':\n",
    "        return []\n",
    "    child_parts = parts[4:]\n",
    "    #print(child_parts)\n",
    "    chunked = list(utils.chunks(child_parts, 4))\n",
    "    result = []\n",
    "    for chunk in chunked:\n",
    "        result.append([f'{chunk[1]}-{chunk[2]}', chunk[0]])\n",
    "    return result\n",
    "\n",
    "def find_child_shiny_gold(x):\n",
    "    \n",
    "    for child in x:\n",
    "        if child[0] == 'shiny-gold':\n",
    "            return True\n",
    "    \n",
    "    \n",
    "        \n",
    "\n",
    "input[1]= input[0].head().apply(lambda x: get_type(x))\n",
    "input[2]= input[0].head().apply(lambda x: get_contents(x))\n",
    "input[3]= input[2].head().apply(lambda x: find_child_shiny_gold(x))\n",
    "input.head()"
   ]
  }
 ]
}