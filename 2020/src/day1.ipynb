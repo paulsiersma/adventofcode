{
 "metadata": {
  "language_info": {
   "codemirror_mode": {
    "name": "ipython",
    "version": 3
   },
   "file_extension": ".py",
   "mimetype": "text/x-python",
   "name": "python",
   "nbconvert_exporter": "python",
   "pygments_lexer": "ipython3",
   "version": "3.7.4-final"
  },
  "orig_nbformat": 2,
  "kernelspec": {
   "name": "python3",
   "display_name": "Python 3"
  }
 },
 "nbformat": 4,
 "nbformat_minor": 2,
 "cells": [
  {
   "cell_type": "code",
   "execution_count": 35,
   "metadata": {},
   "outputs": [],
   "source": [
    "import pandas as pd # Import pandas\n",
    "input = pd.read_csv(\"../inputs/day1.csv\", header=None) # Read the input without header"
   ]
  },
  {
   "cell_type": "code",
   "execution_count": 36,
   "metadata": {},
   "outputs": [
    {
     "output_type": "execute_result",
     "data": {
      "text/plain": [
       "1909"
      ]
     },
     "metadata": {},
     "execution_count": 36
    }
   ],
   "source": [
    "# Define a function that will return the multiplication\n",
    "# if a partner can be found that will result in a sum of 2020\n",
    "def f(number):\n",
    "    partner = 2020 - number\n",
    "    if partner in set(input[0]):\n",
    "        return partner * number\n",
    "    else:\n",
    "        return 0\n",
    "\n",
    "# Loop over the values in the input\n",
    "# Filter the results on whether the function outputs a value > 0\n",
    "result = [x for x in input[0] if f(x) > 0][0]\n",
    "result"
   ]
  },
  {
   "cell_type": "code",
   "execution_count": 38,
   "metadata": {},
   "outputs": [
    {
     "output_type": "execute_result",
     "data": {
      "text/plain": [
       "275765682"
      ]
     },
     "metadata": {},
     "execution_count": 38
    }
   ],
   "source": [
    "upper_cutoff = 2020 - input.nsmallest(2, 0).sum()[0]\n",
    "upper_cutoff\n",
    "is_under_cutoff = input[0]<upper_cutoff\n",
    "is_under_cutoff\n",
    "eligible = input[is_under_cutoff]\n",
    "eligible\n",
    "import itertools\n",
    "combinations = list(itertools.combinations(eligible[0], 3))\n",
    "\n",
    "def multiply_if_sum_2020(tuple):\n",
    "    if sum(list(tuple)) == 2020:\n",
    "        return tuple[0] * tuple[1] * tuple[2] \n",
    "    else:\n",
    "        return 0\n",
    "\n",
    "result = [multiply_if_sum_2020(x) for x in combinations if multiply_if_sum_2020(x) > 0][0]\n",
    "result\n"
   ]
  },
  {
   "cell_type": "code",
   "execution_count": null,
   "metadata": {},
   "outputs": [],
   "source": []
  }
 ]
}