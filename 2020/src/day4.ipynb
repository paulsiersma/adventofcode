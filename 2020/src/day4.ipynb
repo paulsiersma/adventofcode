{
 "metadata": {
  "language_info": {
   "codemirror_mode": {
    "name": "ipython",
    "version": 3
   },
   "file_extension": ".py",
   "mimetype": "text/x-python",
   "name": "python",
   "nbconvert_exporter": "python",
   "pygments_lexer": "ipython3",
   "version": "3.8.3-final"
  },
  "orig_nbformat": 2,
  "kernelspec": {
   "name": "python3",
   "display_name": "Python 3"
  }
 },
 "nbformat": 4,
 "nbformat_minor": 2,
 "cells": [
  {
   "cell_type": "code",
   "execution_count": 1,
   "metadata": {},
   "outputs": [
    {
     "output_type": "execute_result",
     "data": {
      "text/plain": [
       "                                                   0\n",
       "0  ecl:hzl byr:1926 iyr:2010 pid:221225902 cid:61...\n",
       "1  hcl:#efcc98 hgt:178 pid:433543520 eyr:2020 byr...\n",
       "2  iyr:2018 eyr:2026 byr:1946 ecl:brn hcl:#b6652a...\n",
       "3  iyr:2010 hgt:138 ecl:grn pid:21019503 eyr:1937...\n",
       "4  byr:2018 hcl:z eyr:1990 ecl:#d06796 iyr:2019 h..."
      ],
      "text/html": "<div>\n<style scoped>\n    .dataframe tbody tr th:only-of-type {\n        vertical-align: middle;\n    }\n\n    .dataframe tbody tr th {\n        vertical-align: top;\n    }\n\n    .dataframe thead th {\n        text-align: right;\n    }\n</style>\n<table border=\"1\" class=\"dataframe\">\n  <thead>\n    <tr style=\"text-align: right;\">\n      <th></th>\n      <th>0</th>\n    </tr>\n  </thead>\n  <tbody>\n    <tr>\n      <th>0</th>\n      <td>ecl:hzl byr:1926 iyr:2010 pid:221225902 cid:61...</td>\n    </tr>\n    <tr>\n      <th>1</th>\n      <td>hcl:#efcc98 hgt:178 pid:433543520 eyr:2020 byr...</td>\n    </tr>\n    <tr>\n      <th>2</th>\n      <td>iyr:2018 eyr:2026 byr:1946 ecl:brn hcl:#b6652a...</td>\n    </tr>\n    <tr>\n      <th>3</th>\n      <td>iyr:2010 hgt:138 ecl:grn pid:21019503 eyr:1937...</td>\n    </tr>\n    <tr>\n      <th>4</th>\n      <td>byr:2018 hcl:z eyr:1990 ecl:#d06796 iyr:2019 h...</td>\n    </tr>\n  </tbody>\n</table>\n</div>"
     },
     "metadata": {},
     "execution_count": 1
    }
   ],
   "source": [
    "import pandas as pd # Import pandas\n",
    "input = pd.read_csv(\"../inputs/day4.csv\", header=None) # Read the input without header\n",
    "input.head()"
   ]
  },
  {
   "cell_type": "code",
   "execution_count": 2,
   "metadata": {
    "tags": []
   },
   "outputs": [
    {
     "output_type": "execute_result",
     "data": {
      "text/plain": [
       "237"
      ]
     },
     "metadata": {},
     "execution_count": 2
    }
   ],
   "source": [
    "def conforms(entry):\n",
    "    #print(entry)\n",
    "    required_fields = ['byr:', 'iyr:', 'eyr:', 'hgt:', 'hcl:', 'ecl:', 'pid:']\n",
    "    return all(x in entry[0] for x in required_fields)\n",
    "\n",
    "transformed_input = input.apply(lambda x: conforms(x), axis=1)\n",
    "count = transformed_input[transformed_input == True].count()\n",
    "count"
   ]
  },
  {
   "cell_type": "code",
   "execution_count": 4,
   "metadata": {
    "tags": []
   },
   "outputs": [
    {
     "output_type": "execute_result",
     "data": {
      "text/plain": [
       "172"
      ]
     },
     "metadata": {},
     "execution_count": 4
    }
   ],
   "source": [
    "import re\n",
    "\n",
    "def conforms(entry):\n",
    "    #print(entry[0])\n",
    "    required_fields = ['byr:', 'iyr:', 'eyr:', 'hgt:', 'hcl:', 'ecl:', 'pid:']\n",
    "    if not all(x in entry[0] for x in required_fields): # Check a string for multiple substrings\n",
    "        return False\n",
    "    my_dict = dict(e.split(':') for e in entry[0].split(' ')) # Creating a dict from string\n",
    "    byr = int(my_dict['byr'])\n",
    "    if byr < 1920 or byr > 2002:\n",
    "        #print(f'{byr} is invalid')\n",
    "        return False\n",
    "    iyr = int(my_dict['iyr'])\n",
    "    if iyr < 2010 or iyr > 2020:\n",
    "        #print(f'{iyr} is invalid')\n",
    "        return False\n",
    "    eyr = int(my_dict['eyr'])\n",
    "    if eyr < 2020 or eyr > 2030:\n",
    "        #print(f'{eyr} is invalid')\n",
    "        return False\n",
    "    hgt_full = my_dict['hgt'] \n",
    "    hgt_unit = hgt_full[-2:]\n",
    "    if hgt_unit not in ['cm', 'in']:\n",
    "        #print(f'hgt: {hgt_full} is invalid, invalid unit')\n",
    "        return False\n",
    "    hgt = int(my_dict['hgt'][:-2])  \n",
    "    if hgt_unit == 'cm' and (hgt < 150 or hgt > 193):\n",
    "            #print(f'hgt: {hgt_full} is invalid, cm height not within range')\n",
    "            return False\n",
    "    if hgt_unit == 'in' and (hgt > 76 or hgt < 59):\n",
    "            #print(f'hgt: {hgt_full} is invalid, in height not within range')\n",
    "            return False\n",
    "    #print(f'hgt: {hgt_full} is valid')\n",
    "    hcl = my_dict['hcl']\n",
    "    hcl_match = re.search(r'^#(?:[0-9a-f]){6}$', hcl)\n",
    "    if not hcl_match:\n",
    "        #print(f'hcl: {hcl} is invalid, does not match hex regex {my_dict}')\n",
    "        return False\n",
    "    #print(f'hcl: {hcl} is valid')\n",
    "    valid_ecl = ['amb', 'blu', 'brn', 'gry', 'grn', 'hzl', 'oth']\n",
    "    ecl = my_dict['ecl']\n",
    "    if not ecl in valid_ecl:\n",
    "        #print(f'ecl: {ecl} is invalid, not in valid ecl list {my_dict}')\n",
    "        return False\n",
    "    #print(f'ecl: {ecl} is valid')\n",
    "    pid = my_dict['pid']\n",
    "    pid_match = re.search(r'^\\d{9}$', pid)\n",
    "    if not pid_match:\n",
    "        #print(f'pid: {pid} is invalid, does not match 9 digit regex {my_dict}')\n",
    "        return False\n",
    "    #print(f'pid: {pid} is valid')\n",
    "    return True\n",
    "\n",
    "transformed_input = input.apply(lambda x: conforms(x), axis=1)\n",
    "count = transformed_input[transformed_input == True].count()\n",
    "count"
   ]
  }
 ]
}