{
 "metadata": {
  "language_info": {
   "codemirror_mode": {
    "name": "ipython",
    "version": 3
   },
   "file_extension": ".py",
   "mimetype": "text/x-python",
   "name": "python",
   "nbconvert_exporter": "python",
   "pygments_lexer": "ipython3",
   "version": "3.8.3-final"
  },
  "orig_nbformat": 2,
  "kernelspec": {
   "name": "python3",
   "display_name": "Python 3"
  }
 },
 "nbformat": 4,
 "nbformat_minor": 2,
 "cells": [
  {
   "cell_type": "code",
   "execution_count": 3,
   "metadata": {},
   "outputs": [
    {
     "output_type": "execute_result",
     "data": {
      "text/plain": [
       "                                             0\n",
       "0  atxmhdzkjgivwcquconirfdgplhvsaghbvdefsaniyc\n",
       "1                                    cccasxccz\n",
       "2                                sdxtfzostfzno\n",
       "3                                        ttttt\n",
       "4                   nkjexbhrswugovjxugwhbroves"
      ],
      "text/html": "<div>\n<style scoped>\n    .dataframe tbody tr th:only-of-type {\n        vertical-align: middle;\n    }\n\n    .dataframe tbody tr th {\n        vertical-align: top;\n    }\n\n    .dataframe thead th {\n        text-align: right;\n    }\n</style>\n<table border=\"1\" class=\"dataframe\">\n  <thead>\n    <tr style=\"text-align: right;\">\n      <th></th>\n      <th>0</th>\n    </tr>\n  </thead>\n  <tbody>\n    <tr>\n      <th>0</th>\n      <td>atxmhdzkjgivwcquconirfdgplhvsaghbvdefsaniyc</td>\n    </tr>\n    <tr>\n      <th>1</th>\n      <td>cccasxccz</td>\n    </tr>\n    <tr>\n      <th>2</th>\n      <td>sdxtfzostfzno</td>\n    </tr>\n    <tr>\n      <th>3</th>\n      <td>ttttt</td>\n    </tr>\n    <tr>\n      <th>4</th>\n      <td>nkjexbhrswugovjxugwhbroves</td>\n    </tr>\n  </tbody>\n</table>\n</div>"
     },
     "metadata": {},
     "execution_count": 3
    }
   ],
   "source": [
    "import pandas as pd # Import pandas\n",
    "input = pd.read_csv(\"../inputs/day6_1.csv\", header=None)\n",
    "input.head()"
   ]
  },
  {
   "cell_type": "code",
   "execution_count": 4,
   "metadata": {},
   "outputs": [
    {
     "output_type": "execute_result",
     "data": {
      "text/plain": [
       "6714"
      ]
     },
     "metadata": {},
     "execution_count": 4
    }
   ],
   "source": [
    "input[1] = input[0].apply(lambda x: len(set(x)))\n",
    "input.head()\n",
    "input[1].sum()"
   ]
  },
  {
   "cell_type": "code",
   "execution_count": 5,
   "metadata": {},
   "outputs": [
    {
     "output_type": "execute_result",
     "data": {
      "text/plain": [
       "                                                   0\n",
       "0  [atxmhdzkjgivwcqu, conirfdgplhvsa, ghbvdefsaniyc]\n",
       "1                                [c, c, cas, xc, cz]\n",
       "2                                  [sdxtfzo, stfzno]\n",
       "3                                    [t, t, t, t, t]\n",
       "4                     [nkjexbhrswugov, jxugwhbroves]"
      ],
      "text/html": "<div>\n<style scoped>\n    .dataframe tbody tr th:only-of-type {\n        vertical-align: middle;\n    }\n\n    .dataframe tbody tr th {\n        vertical-align: top;\n    }\n\n    .dataframe thead th {\n        text-align: right;\n    }\n</style>\n<table border=\"1\" class=\"dataframe\">\n  <thead>\n    <tr style=\"text-align: right;\">\n      <th></th>\n      <th>0</th>\n    </tr>\n  </thead>\n  <tbody>\n    <tr>\n      <th>0</th>\n      <td>[atxmhdzkjgivwcqu, conirfdgplhvsa, ghbvdefsaniyc]</td>\n    </tr>\n    <tr>\n      <th>1</th>\n      <td>[c, c, cas, xc, cz]</td>\n    </tr>\n    <tr>\n      <th>2</th>\n      <td>[sdxtfzo, stfzno]</td>\n    </tr>\n    <tr>\n      <th>3</th>\n      <td>[t, t, t, t, t]</td>\n    </tr>\n    <tr>\n      <th>4</th>\n      <td>[nkjexbhrswugov, jxugwhbroves]</td>\n    </tr>\n  </tbody>\n</table>\n</div>"
     },
     "metadata": {},
     "execution_count": 5
    }
   ],
   "source": [
    "day6_2_file = open(\"../inputs/day6_2.csv\")\n",
    "content = day6_2_file.read() # Read a text file\n",
    "content_list = content.split(\"\\n\") # Split a text file into rows to get a list\n",
    "import ast\n",
    "groups_df = pd.DataFrame(content_list)\n",
    "groups_df[0] = groups_df[0].apply(lambda x: ast.literal_eval(x)) # Convert text representation of list into actual python list\n",
    "groups_df.head()"
   ]
  },
  {
   "cell_type": "code",
   "execution_count": 6,
   "metadata": {
    "tags": []
   },
   "outputs": [
    {
     "output_type": "execute_result",
     "data": {
      "text/plain": [
       "3435"
      ]
     },
     "metadata": {},
     "execution_count": 6
    }
   ],
   "source": [
    "def get_intersection_len(list):\n",
    "    if len(list) == 1:\n",
    "        return len(list[0])\n",
    "    else:\n",
    "        current_intersect_str = list[0]\n",
    "        for item in list[1:]:\n",
    "            result = set(current_intersect_str).intersection(item)\n",
    "            current_intersect_str = ''.join(result)\n",
    "        return len(current_intersect_str)\n",
    "\n",
    "\n",
    "groups_df[1] = groups_df[0].apply(lambda x: get_intersection_len(x))\n",
    "groups_df[1].sum()"
   ]
  }
 ]
}