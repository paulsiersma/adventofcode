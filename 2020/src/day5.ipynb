{
 "metadata": {
  "language_info": {
   "codemirror_mode": {
    "name": "ipython",
    "version": 3
   },
   "file_extension": ".py",
   "mimetype": "text/x-python",
   "name": "python",
   "nbconvert_exporter": "python",
   "pygments_lexer": "ipython3",
   "version": "3.8.3-final"
  },
  "orig_nbformat": 2,
  "kernelspec": {
   "name": "python3",
   "display_name": "Python 3"
  }
 },
 "nbformat": 4,
 "nbformat_minor": 2,
 "cells": [
  {
   "cell_type": "code",
   "execution_count": 1,
   "metadata": {},
   "outputs": [
    {
     "output_type": "execute_result",
     "data": {
      "text/plain": [
       "         0    1\n",
       "0  FFBFBBB  RLR\n",
       "1  BBFFBFF  RRR\n",
       "2  BFFFFBB  RRR\n",
       "3  FFBFFBB  LRR\n",
       "4  FFBFBFB  LLL"
      ],
      "text/html": "<div>\n<style scoped>\n    .dataframe tbody tr th:only-of-type {\n        vertical-align: middle;\n    }\n\n    .dataframe tbody tr th {\n        vertical-align: top;\n    }\n\n    .dataframe thead th {\n        text-align: right;\n    }\n</style>\n<table border=\"1\" class=\"dataframe\">\n  <thead>\n    <tr style=\"text-align: right;\">\n      <th></th>\n      <th>0</th>\n      <th>1</th>\n    </tr>\n  </thead>\n  <tbody>\n    <tr>\n      <th>0</th>\n      <td>FFBFBBB</td>\n      <td>RLR</td>\n    </tr>\n    <tr>\n      <th>1</th>\n      <td>BBFFBFF</td>\n      <td>RRR</td>\n    </tr>\n    <tr>\n      <th>2</th>\n      <td>BFFFFBB</td>\n      <td>RRR</td>\n    </tr>\n    <tr>\n      <th>3</th>\n      <td>FFBFFBB</td>\n      <td>LRR</td>\n    </tr>\n    <tr>\n      <th>4</th>\n      <td>FFBFBFB</td>\n      <td>LLL</td>\n    </tr>\n  </tbody>\n</table>\n</div>"
     },
     "metadata": {},
     "execution_count": 1
    }
   ],
   "source": [
    "import pandas as pd # Import pandas\n",
    "input = pd.read_csv(\"../inputs/day5.csv\", header=None)\n",
    "input[1] = input[0].apply(lambda x: x[-3:])\n",
    "input[0] = input[0].apply(lambda x: x[:-3])\n",
    "input.head()"
   ]
  },
  {
   "cell_type": "code",
   "execution_count": 2,
   "metadata": {},
   "outputs": [
    {
     "output_type": "execute_result",
     "data": {
      "text/plain": [
       "818.0"
      ]
     },
     "metadata": {},
     "execution_count": 2
    }
   ],
   "source": [
    "first_row = 0\n",
    "last_row = 127\n",
    "\n",
    "test_input = 'RLR'\n",
    "\n",
    "def get(code, min, max, lower_symbol):\n",
    "    lower = min\n",
    "    upper = max\n",
    "    for elem in code:\n",
    "        if elem == lower_symbol:\n",
    "            upper = upper - ((upper - lower + 1)/2)\n",
    "        else:\n",
    "            lower = lower + ((upper - lower + 1)/2)\n",
    "        #print(f'{elem}:{lower}-{upper}')\n",
    "    if lower == upper:\n",
    "        return lower\n",
    "    else:\n",
    "        print(f'{code}: {elem}:{lower}-{upper}')\n",
    "        raise Exception('no match')\n",
    "\n",
    "get(test_input, 0, 7, 'L')\n",
    "\n",
    "input[2] = input.apply(lambda x: get(x[0],0,127,'F')*8+get(x[1],0,7,'L'), axis=1)\n",
    "\n",
    "input[2].max()"
   ]
  },
  {
   "cell_type": "code",
   "execution_count": 9,
   "metadata": {},
   "outputs": [
    {
     "output_type": "stream",
     "name": "stdout",
     "text": [
      "559\n"
     ]
    }
   ],
   "source": [
    "seat_ids = input[2].unique()\n",
    "for row in range(128):\n",
    "    for col in range(8):\n",
    "        seat_id = row*8+col\n",
    "        if seat_id not in seat_ids:\n",
    "            #print(seat_id)\n",
    "            if seat_id + 1 in seat_ids and seat_id - 1 in seat_ids:\n",
    "                print(seat_id)\n",
    "            \n",
    "\n"
   ]
  }
 ]
}