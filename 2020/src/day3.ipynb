{
 "metadata": {
  "language_info": {
   "codemirror_mode": {
    "name": "ipython",
    "version": 3
   },
   "file_extension": ".py",
   "mimetype": "text/x-python",
   "name": "python",
   "nbconvert_exporter": "python",
   "pygments_lexer": "ipython3",
   "version": "3.8.3-final"
  },
  "orig_nbformat": 2,
  "kernelspec": {
   "name": "python3",
   "display_name": "Python 3"
  }
 },
 "nbformat": 4,
 "nbformat_minor": 2,
 "cells": [
  {
   "cell_type": "code",
   "execution_count": 3,
   "metadata": {},
   "outputs": [
    {
     "output_type": "execute_result",
     "data": {
      "text/plain": [
       "    0  1  2  3  4  5  6  7  8  9   ... 21 22 23 24 25 26 27 28 29 30\n",
       "0    .  .  #  .  .  #  .  .  .  .  ...  .  .  .  .  .  .  #  .  .  #\n",
       "1    .  .  .  #  .  .  .  .  .  #  ...  .  .  .  .  .  .  .  #  .  .\n",
       "2    .  .  .  .  #  .  #  .  .  .  ...  .  #  .  #  .  #  .  .  .  .\n",
       "3    .  .  .  .  .  .  .  .  .  #  ...  .  .  .  .  .  .  .  .  .  .\n",
       "4    #  .  #  .  .  .  .  #  .  #  ...  .  .  .  .  .  .  #  .  .  #\n",
       "..  .. .. .. .. .. .. .. .. .. ..  ... .. .. .. .. .. .. .. .. .. ..\n",
       "318  .  .  .  #  .  .  .  .  .  .  ...  .  #  .  #  #  .  #  .  .  .\n",
       "319  .  #  .  .  #  #  .  .  .  #  ...  .  .  .  .  .  #  #  .  #  .\n",
       "320  #  .  .  .  #  .  #  .  .  .  ...  .  .  .  .  .  .  .  .  .  .\n",
       "321  .  .  #  .  .  #  .  .  .  .  ...  #  .  .  #  #  #  .  .  .  .\n",
       "322  .  #  .  .  .  #  .  .  .  .  ...  .  #  .  .  .  .  .  .  .  .\n",
       "\n",
       "[323 rows x 31 columns]"
      ],
      "text/html": "<div>\n<style scoped>\n    .dataframe tbody tr th:only-of-type {\n        vertical-align: middle;\n    }\n\n    .dataframe tbody tr th {\n        vertical-align: top;\n    }\n\n    .dataframe thead th {\n        text-align: right;\n    }\n</style>\n<table border=\"1\" class=\"dataframe\">\n  <thead>\n    <tr style=\"text-align: right;\">\n      <th></th>\n      <th>0</th>\n      <th>1</th>\n      <th>2</th>\n      <th>3</th>\n      <th>4</th>\n      <th>5</th>\n      <th>6</th>\n      <th>7</th>\n      <th>8</th>\n      <th>9</th>\n      <th>...</th>\n      <th>21</th>\n      <th>22</th>\n      <th>23</th>\n      <th>24</th>\n      <th>25</th>\n      <th>26</th>\n      <th>27</th>\n      <th>28</th>\n      <th>29</th>\n      <th>30</th>\n    </tr>\n  </thead>\n  <tbody>\n    <tr>\n      <th>0</th>\n      <td>.</td>\n      <td>.</td>\n      <td>#</td>\n      <td>.</td>\n      <td>.</td>\n      <td>#</td>\n      <td>.</td>\n      <td>.</td>\n      <td>.</td>\n      <td>.</td>\n      <td>...</td>\n      <td>.</td>\n      <td>.</td>\n      <td>.</td>\n      <td>.</td>\n      <td>.</td>\n      <td>.</td>\n      <td>#</td>\n      <td>.</td>\n      <td>.</td>\n      <td>#</td>\n    </tr>\n    <tr>\n      <th>1</th>\n      <td>.</td>\n      <td>.</td>\n      <td>.</td>\n      <td>#</td>\n      <td>.</td>\n      <td>.</td>\n      <td>.</td>\n      <td>.</td>\n      <td>.</td>\n      <td>#</td>\n      <td>...</td>\n      <td>.</td>\n      <td>.</td>\n      <td>.</td>\n      <td>.</td>\n      <td>.</td>\n      <td>.</td>\n      <td>.</td>\n      <td>#</td>\n      <td>.</td>\n      <td>.</td>\n    </tr>\n    <tr>\n      <th>2</th>\n      <td>.</td>\n      <td>.</td>\n      <td>.</td>\n      <td>.</td>\n      <td>#</td>\n      <td>.</td>\n      <td>#</td>\n      <td>.</td>\n      <td>.</td>\n      <td>.</td>\n      <td>...</td>\n      <td>.</td>\n      <td>#</td>\n      <td>.</td>\n      <td>#</td>\n      <td>.</td>\n      <td>#</td>\n      <td>.</td>\n      <td>.</td>\n      <td>.</td>\n      <td>.</td>\n    </tr>\n    <tr>\n      <th>3</th>\n      <td>.</td>\n      <td>.</td>\n      <td>.</td>\n      <td>.</td>\n      <td>.</td>\n      <td>.</td>\n      <td>.</td>\n      <td>.</td>\n      <td>.</td>\n      <td>#</td>\n      <td>...</td>\n      <td>.</td>\n      <td>.</td>\n      <td>.</td>\n      <td>.</td>\n      <td>.</td>\n      <td>.</td>\n      <td>.</td>\n      <td>.</td>\n      <td>.</td>\n      <td>.</td>\n    </tr>\n    <tr>\n      <th>4</th>\n      <td>#</td>\n      <td>.</td>\n      <td>#</td>\n      <td>.</td>\n      <td>.</td>\n      <td>.</td>\n      <td>.</td>\n      <td>#</td>\n      <td>.</td>\n      <td>#</td>\n      <td>...</td>\n      <td>.</td>\n      <td>.</td>\n      <td>.</td>\n      <td>.</td>\n      <td>.</td>\n      <td>.</td>\n      <td>#</td>\n      <td>.</td>\n      <td>.</td>\n      <td>#</td>\n    </tr>\n    <tr>\n      <th>...</th>\n      <td>...</td>\n      <td>...</td>\n      <td>...</td>\n      <td>...</td>\n      <td>...</td>\n      <td>...</td>\n      <td>...</td>\n      <td>...</td>\n      <td>...</td>\n      <td>...</td>\n      <td>...</td>\n      <td>...</td>\n      <td>...</td>\n      <td>...</td>\n      <td>...</td>\n      <td>...</td>\n      <td>...</td>\n      <td>...</td>\n      <td>...</td>\n      <td>...</td>\n      <td>...</td>\n    </tr>\n    <tr>\n      <th>318</th>\n      <td>.</td>\n      <td>.</td>\n      <td>.</td>\n      <td>#</td>\n      <td>.</td>\n      <td>.</td>\n      <td>.</td>\n      <td>.</td>\n      <td>.</td>\n      <td>.</td>\n      <td>...</td>\n      <td>.</td>\n      <td>#</td>\n      <td>.</td>\n      <td>#</td>\n      <td>#</td>\n      <td>.</td>\n      <td>#</td>\n      <td>.</td>\n      <td>.</td>\n      <td>.</td>\n    </tr>\n    <tr>\n      <th>319</th>\n      <td>.</td>\n      <td>#</td>\n      <td>.</td>\n      <td>.</td>\n      <td>#</td>\n      <td>#</td>\n      <td>.</td>\n      <td>.</td>\n      <td>.</td>\n      <td>#</td>\n      <td>...</td>\n      <td>.</td>\n      <td>.</td>\n      <td>.</td>\n      <td>.</td>\n      <td>.</td>\n      <td>#</td>\n      <td>#</td>\n      <td>.</td>\n      <td>#</td>\n      <td>.</td>\n    </tr>\n    <tr>\n      <th>320</th>\n      <td>#</td>\n      <td>.</td>\n      <td>.</td>\n      <td>.</td>\n      <td>#</td>\n      <td>.</td>\n      <td>#</td>\n      <td>.</td>\n      <td>.</td>\n      <td>.</td>\n      <td>...</td>\n      <td>.</td>\n      <td>.</td>\n      <td>.</td>\n      <td>.</td>\n      <td>.</td>\n      <td>.</td>\n      <td>.</td>\n      <td>.</td>\n      <td>.</td>\n      <td>.</td>\n    </tr>\n    <tr>\n      <th>321</th>\n      <td>.</td>\n      <td>.</td>\n      <td>#</td>\n      <td>.</td>\n      <td>.</td>\n      <td>#</td>\n      <td>.</td>\n      <td>.</td>\n      <td>.</td>\n      <td>.</td>\n      <td>...</td>\n      <td>#</td>\n      <td>.</td>\n      <td>.</td>\n      <td>#</td>\n      <td>#</td>\n      <td>#</td>\n      <td>.</td>\n      <td>.</td>\n      <td>.</td>\n      <td>.</td>\n    </tr>\n    <tr>\n      <th>322</th>\n      <td>.</td>\n      <td>#</td>\n      <td>.</td>\n      <td>.</td>\n      <td>.</td>\n      <td>#</td>\n      <td>.</td>\n      <td>.</td>\n      <td>.</td>\n      <td>.</td>\n      <td>...</td>\n      <td>.</td>\n      <td>#</td>\n      <td>.</td>\n      <td>.</td>\n      <td>.</td>\n      <td>.</td>\n      <td>.</td>\n      <td>.</td>\n      <td>.</td>\n      <td>.</td>\n    </tr>\n  </tbody>\n</table>\n<p>323 rows × 31 columns</p>\n</div>"
     },
     "metadata": {},
     "execution_count": 3
    }
   ],
   "source": [
    "import pandas as pd # Import pandas\n",
    "input = pd.read_fwf(\"../inputs/day3.csv\", header=None)\n",
    "input = input[0].apply(lambda r: pd.Series(list(r)))\n",
    "input"
   ]
  },
  {
   "cell_type": "code",
   "execution_count": 4,
   "metadata": {},
   "outputs": [
    {
     "output_type": "execute_result",
     "data": {
      "text/plain": [
       "292"
      ]
     },
     "metadata": {},
     "execution_count": 4
    }
   ],
   "source": [
    "row_index = 0\n",
    "col_index = 0\n",
    "tree_count = 0\n",
    "\n",
    "def get_next_row_index(current_row_index, step):\n",
    "    return current_row_index + step\n",
    "    \n",
    "def get_next_col_index(current_col_index, step):\n",
    "    next_col_index = current_col_index + step\n",
    "    if next_col_index > 30:\n",
    "        return next_col_index - 31\n",
    "    else:\n",
    "        return next_col_index\n",
    "\n",
    "while not row_index >= 322:\n",
    "    row_index = get_next_row_index(row_index, 1)\n",
    "    col_index = get_next_col_index(col_index, 3)\n",
    "    #print(f'{row_index}-{col_index}')\n",
    "    if input[col_index][row_index] == '#':\n",
    "        tree_count = tree_count + 1\n",
    "\n",
    "tree_count"
   ]
  },
  {
   "cell_type": "code",
   "execution_count": 7,
   "metadata": {},
   "outputs": [
    {
     "output_type": "execute_result",
     "data": {
      "text/plain": [
       "9354744432"
      ]
     },
     "metadata": {},
     "execution_count": 7
    }
   ],
   "source": [
    "\n",
    "def get_next_row_index(current_row_index, step):\n",
    "    return current_row_index + step\n",
    "    \n",
    "def get_next_col_index(current_col_index, step):\n",
    "    next_col_index = current_col_index + step\n",
    "    if next_col_index > 30:\n",
    "        return next_col_index - 31\n",
    "    else:\n",
    "        return next_col_index\n",
    "\n",
    "results = []\n",
    "\n",
    "slopes = [(1,1), (3,1), (5,1), (7,1), (1,2)]\n",
    "\n",
    "for slope in slopes:\n",
    "    row_index = 0\n",
    "    col_index = 0\n",
    "    tree_count = 0\n",
    "    while not row_index >= 322:\n",
    "        row_index = get_next_row_index(row_index, slope[1])\n",
    "        col_index = get_next_col_index(col_index, slope[0])\n",
    "        #print(f'{row_index}-{col_index}')\n",
    "        if input[col_index][row_index] == '#':\n",
    "            tree_count = tree_count + 1\n",
    "\n",
    "    results.append(tree_count)\n",
    "import math\n",
    "math.prod(results)"
   ]
  }
 ]
}